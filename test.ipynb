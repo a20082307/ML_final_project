{
 "cells": [
  {
   "cell_type": "markdown",
   "metadata": {},
   "source": [
    "## Import Modules"
   ]
  },
  {
   "cell_type": "code",
   "execution_count": 1,
   "metadata": {},
   "outputs": [
    {
     "name": "stdout",
     "output_type": "stream",
     "text": [
      "WARNING:tensorflow:From c:\\Users\\林家逸\\AppData\\Local\\Programs\\Python\\Python311\\Lib\\site-packages\\keras\\src\\losses.py:2976: The name tf.losses.sparse_softmax_cross_entropy is deprecated. Please use tf.compat.v1.losses.sparse_softmax_cross_entropy instead.\n",
      "\n"
     ]
    }
   ],
   "source": [
    "import os\n",
    "import csv\n",
    "import nibabel as nib\n",
    "\n",
    "import math\n",
    "import numpy as np\n",
    "import tensorflow as tf\n",
    "from tensorflow import keras\n",
    "from keras import models\n",
    "from keras import layers\n",
    "import matplotlib.pyplot as plt\n",
    "\n",
    "from tqdm import trange"
   ]
  },
  {
   "cell_type": "markdown",
   "metadata": {},
   "source": [
    "## Define parameters and variables"
   ]
  },
  {
   "cell_type": "code",
   "execution_count": 2,
   "metadata": {},
   "outputs": [],
   "source": [
    "# hyper parameters\n",
    "EPOCH = 20\n",
    "BATCH_SIZE = 128\n",
    "LR = 0.001"
   ]
  },
  {
   "cell_type": "code",
   "execution_count": 3,
   "metadata": {},
   "outputs": [],
   "source": [
    "# global variables\n",
    "LABELS = ['CN', 'MCI', 'AD']\n",
    "CLASSES = len(LABELS)"
   ]
  },
  {
   "cell_type": "markdown",
   "metadata": {},
   "source": [
    "## Load data"
   ]
  },
  {
   "cell_type": "code",
   "execution_count": 4,
   "metadata": {},
   "outputs": [
    {
     "name": "stderr",
     "output_type": "stream",
     "text": [
      "100%|██████████| 3184/3184 [00:55<00:00, 56.95it/s]\n"
     ]
    }
   ],
   "source": [
    "mri_data_path = '/mri_data/ADNI_RESIZED/'\n",
    "csv_data_path = 'structured_data_mac.csv'\n",
    "\n",
    "# csv = [Image Data ID, Subject, Group, Sex, Age, Visit, Modality, Description, Type, Acq Date, Format, Downloaded, Image Path]\n",
    "csv_data = []\n",
    "with open(csv_data_path, newline = '', encoding = 'utf-8') as csvfile:\n",
    "    csv_data = list(csv.reader(csvfile))[1 : ]\n",
    "\n",
    "# data_list = [nib.load('./mri_data/' + csv_data[i][12]).get_fdata() for i in range(len(csv_data))]\n",
    "data_list = []\n",
    "for i in trange(len(csv_data)):\n",
    "    data_list.append(nib.load('./mri_data/' + csv_data[i][12]).get_fdata())\n",
    "    \n",
    "label_list = [LABELS.index(csv_data[i][2]) for i in range(len(csv_data))]"
   ]
  },
  {
   "cell_type": "code",
   "execution_count": 5,
   "metadata": {},
   "outputs": [],
   "source": [
    "data_list = np.array(data_list)"
   ]
  },
  {
   "cell_type": "code",
   "execution_count": 6,
   "metadata": {},
   "outputs": [
    {
     "data": {
      "image/png": "[encoded data removed]",
      "text/plain": [
       "<Figure size 640x480 with 1 Axes>"
      ]
     },
     "metadata": {},
     "output_type": "display_data"
    }
   ],
   "source": [
    "distribution = [len(['_'for label in label_list if label == i]) for i in range(len(LABELS))]\n",
    "plt.bar(LABELS, distribution)\n",
    "plt.xlabel('Labels')\n",
    "plt.ylabel('Number of data')\n",
    "plt.title('Distribution of all data')\n",
    "plt.show()"
   ]
  },
  {
   "cell_type": "code",
   "execution_count": 9,
   "metadata": {},
   "outputs": [],
   "source": [
    "label_list = tf.keras.utils.to_categorical(label_list, CLASSES)"
   ]
  },
  {
   "cell_type": "markdown",
   "metadata": {},
   "source": [
    "## Partition data"
   ]
  },
  {
   "cell_type": "code",
   "execution_count": 10,
   "metadata": {},
   "outputs": [],
   "source": [
    "partition = int(len(data_list) * 0.8)\n",
    "cur_subject = csv_data[partition][1]\n",
    "while csv_data[partition][1] == cur_subject:\n",
    "    partition += 1\n",
    "\n",
    "train_set, val_set = data_list[ : partition], data_list[partition : ]\n",
    "train_label, val_label = label_list[ : partition], label_list[partition : ]"
   ]
  },
  {
   "cell_type": "code",
   "execution_count": 11,
   "metadata": {},
   "outputs": [],
   "source": [
    "str_seed = 'final project'\n",
    "np.random.seed(sum(str_seed.encode('ascii')))\n",
    "div_slice = np.random.choice(train_set.shape[0], partition, replace = False)\n",
    "\n",
    "np.random.shuffle(train_set)\n",
    "np.random.shuffle(train_label)"
   ]
  },
  {
   "cell_type": "code",
   "execution_count": 12,
   "metadata": {},
   "outputs": [],
   "source": [
    "# dataloader = []\n",
    "\n",
    "# batch_num = math.floor(len(train_set) / BATCH_SIZE)\n",
    "# for i in range(batch_num):\n",
    "#     batch_data = train_set[i * BATCH_SIZE : (i + 1) * BATCH_SIZE]\n",
    "#     batch_label = train_label[i * BATCH_SIZE : (i + 1) * BATCH_SIZE]\n",
    "#     dataloader.append((batch_data, batch_label))\n",
    "# if (train_set.shape[0] % BATCH_SIZE != 0):\n",
    "#     batch_data = train_set[batch_num * BATCH_SIZE : ]\n",
    "#     batch_label = train_label[batch_num * BATCH_SIZE : ]\n",
    "#     dataloader.append((batch_data, batch_label))"
   ]
  },
  {
   "cell_type": "markdown",
   "metadata": {},
   "source": [
    "## Train"
   ]
  },
  {
   "cell_type": "code",
   "execution_count": 13,
   "metadata": {},
   "outputs": [
    {
     "name": "stdout",
     "output_type": "stream",
     "text": [
      "WARNING:tensorflow:From c:\\Users\\林家逸\\AppData\\Local\\Programs\\Python\\Python311\\Lib\\site-packages\\keras\\src\\backend.py:873: The name tf.get_default_graph is deprecated. Please use tf.compat.v1.get_default_graph instead.\n",
      "\n",
      "WARNING:tensorflow:From c:\\Users\\林家逸\\AppData\\Local\\Programs\\Python\\Python311\\Lib\\site-packages\\keras\\src\\optimizers\\__init__.py:309: The name tf.train.Optimizer is deprecated. Please use tf.compat.v1.train.Optimizer instead.\n",
      "\n",
      "Model: \"sequential\"\n",
      "_________________________________________________________________\n",
      " Layer (type)                Output Shape              Param #   \n",
      "=================================================================\n",
      " conv3d (Conv3D)             (None, 94, 94, 94, 32)    896       \n",
      "                                                                 \n",
      " max_pooling3d (MaxPooling3  (None, 47, 47, 47, 32)    0         \n",
      " D)                                                              \n",
      "                                                                 \n",
      " conv3d_1 (Conv3D)           (None, 45, 45, 45, 64)    55360     \n",
      "                                                                 \n",
      " max_pooling3d_1 (MaxPoolin  (None, 22, 22, 22, 64)    0         \n",
      " g3D)                                                            \n",
      "                                                                 \n",
      " flatten (Flatten)           (None, 681472)            0         \n",
      "                                                                 \n",
      " dropout (Dropout)           (None, 681472)            0         \n",
      "                                                                 \n",
      " dense (Dense)               (None, 16)                10903568  \n",
      "                                                                 \n",
      " dense_1 (Dense)             (None, 3)                 51        \n",
      "                                                                 \n",
      "=================================================================\n",
      "Total params: 10959875 (41.81 MB)\n",
      "Trainable params: 10959875 (41.81 MB)\n",
      "Non-trainable params: 0 (0.00 Byte)\n",
      "_________________________________________________________________\n"
     ]
    }
   ],
   "source": [
    "_, HEIGTH, WIDTH, DEPTH = train_set.shape\n",
    "\n",
    "model = models.Sequential()\n",
    "model.add(\n",
    "    layers.Conv3D(\n",
    "        32, \n",
    "        (3, 3, 3), \n",
    "        activation = 'relu', \n",
    "        input_shape = (HEIGTH, WIDTH, DEPTH, 1),\n",
    "    )\n",
    ")\n",
    "model.add(layers.MaxPooling3D((2, 2, 2)))\n",
    "\n",
    "model.add(\n",
    "    layers.Conv3D(\n",
    "        64, \n",
    "        (3, 3, 3), \n",
    "        activation = 'relu',\n",
    "    )\n",
    ")\n",
    "model.add(layers.MaxPooling3D((2, 2, 2)))\n",
    "\n",
    "model.add(layers.Flatten())\n",
    "model.add(layers.Dropout(0.25))\n",
    "model.add(\n",
    "    layers.Dense(\n",
    "        16, \n",
    "        activation = 'relu'\n",
    "    )\n",
    ")\n",
    "model.add(\n",
    "    layers.Dense(\n",
    "        CLASSES, \n",
    "        activation = 'softmax'\n",
    "    )\n",
    ")\n",
    "\n",
    "model.compile(\n",
    "    loss = 'categorical_crossentropy',\n",
    "    optimizer = 'adam',\n",
    "    metrics = ['accuracy']\n",
    ")\n",
    "model.summary()"
   ]
  },
  {
   "cell_type": "code",
   "execution_count": 14,
   "metadata": {},
   "outputs": [
    {
     "name": "stdout",
     "output_type": "stream",
     "text": [
      "Epoch 1/20\n",
      "WARNING:tensorflow:From c:\\Users\\林家逸\\AppData\\Local\\Programs\\Python\\Python311\\Lib\\site-packages\\keras\\src\\utils\\tf_utils.py:492: The name tf.ragged.RaggedTensorValue is deprecated. Please use tf.compat.v1.ragged.RaggedTensorValue instead.\n",
      "\n",
      "WARNING:tensorflow:From c:\\Users\\林家逸\\AppData\\Local\\Programs\\Python\\Python311\\Lib\\site-packages\\keras\\src\\engine\\base_layer_utils.py:384: The name tf.executing_eagerly_outside_functions is deprecated. Please use tf.compat.v1.executing_eagerly_outside_functions instead.\n",
      "\n",
      "63/63 - 272s - loss: 2.6386 - accuracy: 0.5145 - 272s/epoch - 4s/step\n",
      "Epoch 2/20\n",
      "63/63 - 267s - loss: 1.0712 - accuracy: 0.5290 - 267s/epoch - 4s/step\n",
      "Epoch 3/20\n",
      "63/63 - 267s - loss: 1.0507 - accuracy: 0.5295 - 267s/epoch - 4s/step\n",
      "Epoch 4/20\n",
      "63/63 - 273s - loss: 1.0326 - accuracy: 0.5285 - 273s/epoch - 4s/step\n",
      "Epoch 5/20\n",
      "63/63 - 277s - loss: 1.0185 - accuracy: 0.5300 - 277s/epoch - 4s/step\n",
      "Epoch 6/20\n",
      "63/63 - 286s - loss: 1.0018 - accuracy: 0.5315 - 286s/epoch - 5s/step\n",
      "Epoch 7/20\n",
      "63/63 - 293s - loss: 0.9793 - accuracy: 0.5410 - 293s/epoch - 5s/step\n",
      "Epoch 8/20\n",
      "63/63 - 284s - loss: 0.9574 - accuracy: 0.5390 - 284s/epoch - 5s/step\n",
      "Epoch 9/20\n",
      "63/63 - 280s - loss: 0.9291 - accuracy: 0.5600 - 280s/epoch - 4s/step\n",
      "Epoch 10/20\n",
      "63/63 - 283s - loss: 0.8909 - accuracy: 0.5725 - 283s/epoch - 4s/step\n",
      "Epoch 11/20\n",
      "63/63 - 282s - loss: 0.8494 - accuracy: 0.5770 - 282s/epoch - 4s/step\n",
      "Epoch 12/20\n",
      "63/63 - 274s - loss: 0.7884 - accuracy: 0.6120 - 274s/epoch - 4s/step\n",
      "Epoch 13/20\n",
      "63/63 - 275s - loss: 0.7455 - accuracy: 0.6590 - 275s/epoch - 4s/step\n",
      "Epoch 14/20\n",
      "63/63 - 272s - loss: 0.7008 - accuracy: 0.6815 - 272s/epoch - 4s/step\n",
      "Epoch 15/20\n",
      "63/63 - 272s - loss: 0.6495 - accuracy: 0.7080 - 272s/epoch - 4s/step\n",
      "Epoch 16/20\n",
      "63/63 - 272s - loss: 0.6174 - accuracy: 0.7265 - 272s/epoch - 4s/step\n",
      "Epoch 17/20\n",
      "63/63 - 267s - loss: 0.5812 - accuracy: 0.7470 - 267s/epoch - 4s/step\n",
      "Epoch 18/20\n",
      "63/63 - 267s - loss: 0.5500 - accuracy: 0.7565 - 267s/epoch - 4s/step\n",
      "Epoch 19/20\n",
      "63/63 - 264s - loss: 0.5161 - accuracy: 0.7730 - 264s/epoch - 4s/step\n",
      "Epoch 20/20\n",
      "63/63 - 262s - loss: 0.4891 - accuracy: 0.7840 - 262s/epoch - 4s/step\n"
     ]
    },
    {
     "data": {
      "text/plain": [
       "<keras.src.callbacks.History at 0x240c7d2fdd0>"
      ]
     },
     "execution_count": 14,
     "metadata": {},
     "output_type": "execute_result"
    }
   ],
   "source": [
    "model.fit(\n",
    "    train_set[:2000], \n",
    "    train_label[:2000 ],\n",
    "    batch_size = BATCH_SIZE // 4,\n",
    "    epochs = EPOCH,\n",
    "    verbose = 2,\n",
    ")"
   ]
  },
  {
   "cell_type": "code",
   "execution_count": null,
   "metadata": {},
   "outputs": [],
   "source": []
  }
 ],
 "metadata": {
  "kernelspec": {
   "display_name": "Python 3",
   "language": "python",
   "name": "python3"
  },
  "language_info": {
   "codemirror_mode": {
    "name": "ipython",
    "version": 3
   },
   "file_extension": ".py",
   "mimetype": "text/x-python",
   "name": "python",
   "nbconvert_exporter": "python",
   "pygments_lexer": "ipython3",
   "version": "3.11.4"
  }
 },
 "nbformat": 4,
 "nbformat_minor": 2
}
